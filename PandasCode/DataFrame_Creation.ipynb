{
 "cells": [
  {
   "cell_type": "markdown",
   "metadata": {},
   "source": [
    "Create Pandas DataFrame"
   ]
  },
  {
   "cell_type": "markdown",
   "metadata": {},
   "source": [
    "Blank DataFrame Creation"
   ]
  },
  {
   "cell_type": "code",
   "execution_count": null,
   "metadata": {},
   "outputs": [],
   "source": [
    "import pandas as pd\n",
    "df = pd.DataFrame()\n",
    "print(df)"
   ]
  },
  {
   "cell_type": "markdown",
   "metadata": {},
   "source": [
    "Create DataFrame from list of list"
   ]
  },
  {
   "cell_type": "code",
   "execution_count": null,
   "metadata": {},
   "outputs": [],
   "source": [
    "data = [\n",
    "        [10,20,30,40],\n",
    "        [20,30,40,50],\n",
    "        [56,7,90]\n",
    "        ]\n",
    "df1= pd.DataFrame(data)\n",
    "print(df1)"
   ]
  },
  {
   "cell_type": "markdown",
   "metadata": {},
   "source": [
    "Adding User Defined Index to DataFrame"
   ]
  },
  {
   "cell_type": "code",
   "execution_count": null,
   "metadata": {},
   "outputs": [],
   "source": [
    "data = [\n",
    "        [10, 20, 30, 40], \n",
    "        [20, 30, 40, 50],\n",
    "        [56, 7, 90]\n",
    "    ]\n",
    "df1 = pd.DataFrame(data,index=['Rakesh','Mahesh','Udit'])\n",
    "print(df1)\n"
   ]
  },
  {
   "cell_type": "markdown",
   "metadata": {},
   "source": [
    "Changing column Heading of a DataFrame- This is only one method - we have more than one method to do that"
   ]
  },
  {
   "cell_type": "code",
   "execution_count": null,
   "metadata": {},
   "outputs": [],
   "source": [
    "df1.columns =['Eng','math','cs','Phy'] #column name must be equal to columns\n",
    "print(df1)"
   ]
  },
  {
   "cell_type": "markdown",
   "metadata": {},
   "source": [
    "Create DataFrame from tuples"
   ]
  },
  {
   "cell_type": "code",
   "execution_count": null,
   "metadata": {},
   "outputs": [],
   "source": [
    "data = (\n",
    "        (10, 20, 30, 40),\n",
    "        (20, 30, 40, 50), \n",
    "        (56, 7, 90)\n",
    "        )\n",
    "df2 = pd.DataFrame(data)\n",
    "print(df2)\n"
   ]
  },
  {
   "cell_type": "markdown",
   "metadata": {},
   "source": [
    "Create DataFrame from dictionary- First Method"
   ]
  },
  {
   "cell_type": "code",
   "execution_count": null,
   "metadata": {},
   "outputs": [],
   "source": [
    "data ={'name':['rakesh','tanush','prashant','mukul','khushi'],\n",
    "        'eng':[45,67,78,78,89],\n",
    "        'IP':[45,67,89,45,81],\n",
    "        'Acc':[45,56,82,68,74],\n",
    "        'bs':[66,83,83,75,12]\n",
    "        }\n",
    "df3= pd.DataFrame(data)\n",
    "print(df3)"
   ]
  },
  {
   "cell_type": "markdown",
   "metadata": {},
   "source": [
    "Create DataFrame from List of dictionary"
   ]
  },
  {
   "cell_type": "code",
   "execution_count": null,
   "metadata": {},
   "outputs": [],
   "source": [
    "data = [\n",
    "        {'name':'mukul','eng':45,'ip':76,'acc':85,'eco':96},\n",
    "        {'name': 'rakesh', 'eng': 64, 'ip': 56, 'acc': 83, 'eco': 94},\n",
    "        {'name': 'Khushi', 'eng': 53, 'ip': 63, 'acc': 65, 'eco': 67},\n",
    "        {'name': 'Govind', 'eng': 43, 'ip': 84, 'acc': 93, 'eco': 81},\n",
    "        {'name': 'Prashant', 'eng': 34, 'ip': 73, 'acc': 58, 'eco': 76},\n",
    "        {'name': 'Oieshik', 'eng': 67, 'ip': 56, 'acc': 56, 'eco': 92}\n",
    "    ]\n",
    "\n",
    "df4= pd.DataFrame(data,index=[2,5,7,9,11,12]) #with custom index\n",
    "print(df4)"
   ]
  },
  {
   "cell_type": "markdown",
   "metadata": {},
   "source": [
    "Creating DataFrame from a CSV File - CSV file is stored in the same folder"
   ]
  },
  {
   "cell_type": "code",
   "execution_count": null,
   "metadata": {},
   "outputs": [],
   "source": [
    "df5=pd.read_csv('c:/users/rakesh/desktop/pandascode/student.csv')\n",
    "print(df5)"
   ]
  },
  {
   "cell_type": "markdown",
   "metadata": {},
   "source": [
    "creating pandas dataFrame from excel sheet - file is stored in same directory"
   ]
  },
  {
   "cell_type": "code",
   "execution_count": null,
   "metadata": {},
   "outputs": [],
   "source": [
    "df6=pd.read_excel('c:/users/rakesh/desktop/pandascode/student.xlsx')\n",
    "print(df6)"
   ]
  }
 ],
 "metadata": {
  "kernelspec": {
   "display_name": "Python 3.10.6 64-bit",
   "language": "python",
   "name": "python3"
  },
  "language_info": {
   "codemirror_mode": {
    "name": "ipython",
    "version": 3
   },
   "file_extension": ".py",
   "mimetype": "text/x-python",
   "name": "python",
   "nbconvert_exporter": "python",
   "pygments_lexer": "ipython3",
   "version": "3.10.6"
  },
  "orig_nbformat": 4,
  "vscode": {
   "interpreter": {
    "hash": "31f2aee4e71d21fbe5cf8b01ff0e069b9275f58929596ceb00d14d90e3e16cd6"
   }
  }
 },
 "nbformat": 4,
 "nbformat_minor": 2
}
