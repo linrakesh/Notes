{
 "cells": [
  {
   "cell_type": "markdown",
   "metadata": {},
   "source": [
    "Create Pandas DataFrame"
   ]
  },
  {
   "cell_type": "markdown",
   "metadata": {},
   "source": [
    "Blank DataFrame Creation"
   ]
  },
  {
   "cell_type": "code",
   "execution_count": 1,
   "metadata": {},
   "outputs": [
    {
     "name": "stdout",
     "output_type": "stream",
     "text": [
      "Empty DataFrame\n",
      "Columns: []\n",
      "Index: []\n"
     ]
    }
   ],
   "source": [
    "import pandas as pd\n",
    "df = pd.DataFrame()\n",
    "print(df)"
   ]
  },
  {
   "cell_type": "markdown",
   "metadata": {},
   "source": [
    "Create DataFrame from list of list"
   ]
  },
  {
   "cell_type": "code",
   "execution_count": null,
   "metadata": {},
   "outputs": [],
   "source": [
    "data = [\n",
    "        [10,20,30,40],\n",
    "        [20,30,40,50],\n",
    "        [56,7,90]\n",
    "        ]\n",
    "df1= pd.DataFrame(data)\n",
    "print(df1)"
   ]
  },
  {
   "cell_type": "markdown",
   "metadata": {},
   "source": [
    "Adding User Defined Index to DataFrame"
   ]
  },
  {
   "cell_type": "code",
   "execution_count": null,
   "metadata": {},
   "outputs": [],
   "source": [
    "data = [\n",
    "        [10, 20, 30, 40], \n",
    "        [20, 30, 40, 50],\n",
    "        [56, 7, 90]\n",
    "    ]\n",
    "df1 = pd.DataFrame(data,index=['Rakesh','Mahesh','Udit'])\n",
    "print(df1)\n"
   ]
  },
  {
   "cell_type": "code",
   "execution_count": null,
   "metadata": {},
   "outputs": [],
   "source": [
    "#defining dataFrame columns\n",
    "data = [\n",
    "    [10, 20, 30, 40],\n",
    "    [20, 30, 40, 50],\n",
    "    [56, 7, 90]\n",
    "]\n",
    "df1 = pd.DataFrame(data, columns=['Eng', 'Maths', 'Eco','BS'])\n",
    "print(df1)\n"
   ]
  },
  {
   "cell_type": "code",
   "execution_count": null,
   "metadata": {},
   "outputs": [],
   "source": [
    "#defining dataFrame columns and indexs both\n",
    "data = [\n",
    "    [10, 20, 30, 40],\n",
    "    [20, 30, 40, 50],\n",
    "    [56, 7, 90]\n",
    "]\n",
    "df1 = pd.DataFrame(data, columns=['Eng', 'Maths', 'Eco', 'BS'],index=['rakesh','mridul','udit'])\n",
    "print(df1)\n"
   ]
  },
  {
   "cell_type": "markdown",
   "metadata": {},
   "source": [
    "Create DataFrame from tuples"
   ]
  },
  {
   "cell_type": "code",
   "execution_count": null,
   "metadata": {},
   "outputs": [],
   "source": [
    "data = (\n",
    "        (10, 20, 30, 40),\n",
    "        (20, 30, 40, 50), \n",
    "        (56, 7, 90)\n",
    "        )\n",
    "df2 = pd.DataFrame(data)\n",
    "print(df2)\n"
   ]
  },
  {
   "cell_type": "markdown",
   "metadata": {},
   "source": [
    "Create DataFrame from dictionary- First Method"
   ]
  },
  {
   "cell_type": "code",
   "execution_count": null,
   "metadata": {},
   "outputs": [],
   "source": [
    "data ={'name':['rakesh','tanush','prashant','mukul','khushi'],\n",
    "        'eng':[45,67,78,78,89],\n",
    "        'IP':[45,67,89,45,81],\n",
    "        'Acc':[45,56,82,68,74],\n",
    "        'bs':[66,83,83,75,12]\n",
    "        }\n",
    "df3= pd.DataFrame(data)\n",
    "print(df3)"
   ]
  },
  {
   "cell_type": "markdown",
   "metadata": {},
   "source": [
    "Create DataFrame from List of dictionary"
   ]
  },
  {
   "cell_type": "code",
   "execution_count": null,
   "metadata": {},
   "outputs": [],
   "source": [
    "data = [\n",
    "        {'name':'mukul','eng':45,'ip':76,'acc':85,'eco':96},\n",
    "        {'name': 'rakesh', 'eng': 64, 'ip': 56, 'acc': 83, 'eco': 94},\n",
    "        {'name': 'Khushi', 'eng': 53, 'ip': 63, 'acc': 65, 'eco': 67},\n",
    "        {'name': 'Govind', 'eng': 43, 'ip': 84, 'acc': 93, 'eco': 81},\n",
    "        {'name': 'Prashant', 'eng': 34, 'ip': 73, 'acc': 58, 'eco': 76},\n",
    "        {'name': 'Oieshik', 'eng': 67, 'ip': 56, 'acc': 56, 'eco': 92}\n",
    "    ]\n",
    "\n",
    "df4= pd.DataFrame(data,index=[2,5,7,9,11,12]) #with custom index\n",
    "print(df4)"
   ]
  },
  {
   "cell_type": "code",
   "execution_count": null,
   "metadata": {},
   "outputs": [],
   "source": [
    "#creating Pandas DataFrame from Pandas Series\n",
    "s1 = pd.Series({'vijay':90,'mukul':98,'prashant':78,'tanush':87,'khushi':99})\n",
    "s2 = pd.Series({'vijay':21,'mukul':18,'prashant':17,'tanush':16,'khushi':17})\n",
    "print('First Pandas Series S1\\n')\n",
    "print(s1)\n",
    "print('\\nSecond Pandas Series S2 \\n')\n",
    "print(s2,end='\\n\\n')\n",
    "print('\\nPandas DataFrame from Two Series')\n",
    "df =pd.DataFrame({'Marks':s1,'Age':s2})\n",
    "print(df)"
   ]
  },
  {
   "cell_type": "markdown",
   "metadata": {},
   "source": [
    "Creating DataFrame from a CSV File - CSV file is stored in the same folder"
   ]
  },
  {
   "cell_type": "code",
   "execution_count": 13,
   "metadata": {},
   "outputs": [
    {
     "name": "stdout",
     "output_type": "stream",
     "text": [
      "     name  english  math  cs  physics  chemistry\n",
      "0  rakesh       45    87  56       56         78\n",
      "1    amit       56    89  56       67         87\n",
      "2      jm       45    45  89       67         66\n",
      "3   vikas       34    67  89       78         67\n",
      "4      rk       67    89  67       67         45\n",
      "5   dhruv       78    67  90       56         56\n"
     ]
    }
   ],
   "source": [
    "#on windows system -uncommect next \n",
    "#df5=pd.read_excel('c:/users/rakesh/desktop/Notes/pandascode/student.csv')\n",
    "\n",
    "#on linux system\n",
    "df5=pd.read_csv('/home/lab/Desktop/Notes/PandasCode/student.csv')\n",
    "print(df5)"
   ]
  },
  {
   "cell_type": "markdown",
   "metadata": {},
   "source": [
    "creating pandas dataFrame from excel sheet - file is stored in same directory"
   ]
  },
  {
   "cell_type": "code",
   "execution_count": null,
   "metadata": {},
   "outputs": [],
   "source": [
    "#on windows system -\n",
    "#df6=pd.read_excel('c:/users/rakesh/desktop/Notes/pandascode/student.xlsx')\n",
    "\n",
    "#on linux system\n",
    "df6=pd.read_csv('/home/lab/Desktop/Notes/PandasCode/student.xlsx')\n",
    "print(df6)"
   ]
  }
 ],
 "metadata": {
  "kernelspec": {
   "display_name": "Python 3.10.6 64-bit",
   "language": "python",
   "name": "python3"
  },
  "language_info": {
   "codemirror_mode": {
    "name": "ipython",
    "version": 3
   },
   "file_extension": ".py",
   "mimetype": "text/x-python",
   "name": "python",
   "nbconvert_exporter": "python",
   "pygments_lexer": "ipython3",
   "version": "3.10.6"
  },
  "orig_nbformat": 4,
  "vscode": {
   "interpreter": {
    "hash": "31f2aee4e71d21fbe5cf8b01ff0e069b9275f58929596ceb00d14d90e3e16cd6"
   }
  }
 },
 "nbformat": 4,
 "nbformat_minor": 2
}
