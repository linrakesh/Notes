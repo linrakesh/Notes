{
 "cells": [
  {
   "cell_type": "markdown",
   "metadata": {},
   "source": [
    "Mathematical Operators on Python Series"
   ]
  },
  {
   "cell_type": "code",
   "execution_count": 1,
   "metadata": {},
   "outputs": [
    {
     "name": "stdout",
     "output_type": "stream",
     "text": [
      "0     10\n",
      "1     20\n",
      "2    340\n",
      "3    560\n",
      "4    670\n",
      "5    243\n",
      "6     23\n",
      "7     56\n",
      "dtype: int64\n"
     ]
    }
   ],
   "source": [
    "import pandas as pd\n",
    "s1 = pd.Series([10, 20, 340, 560, 670, 243, 23, 56])\n",
    "print(s1)"
   ]
  },
  {
   "cell_type": "code",
   "execution_count": 2,
   "metadata": {},
   "outputs": [
    {
     "name": "stdout",
     "output_type": "stream",
     "text": [
      "0     15\n",
      "1     25\n",
      "2    345\n",
      "3    565\n",
      "4    675\n",
      "5    248\n",
      "6     28\n",
      "7     61\n",
      "dtype: int64\n"
     ]
    }
   ],
   "source": [
    "s2=s1+5\n",
    "print(s2)"
   ]
  },
  {
   "cell_type": "code",
   "execution_count": 3,
   "metadata": {},
   "outputs": [
    {
     "name": "stdout",
     "output_type": "stream",
     "text": [
      "0    -10\n",
      "1      0\n",
      "2    320\n",
      "3    540\n",
      "4    650\n",
      "5    223\n",
      "6      3\n",
      "7     36\n",
      "dtype: int64\n"
     ]
    }
   ],
   "source": [
    "s3= s1-20\n",
    "print(s3)"
   ]
  },
  {
   "cell_type": "code",
   "execution_count": 4,
   "metadata": {},
   "outputs": [
    {
     "name": "stdout",
     "output_type": "stream",
     "text": [
      "0     100\n",
      "1     200\n",
      "2    3400\n",
      "3    5600\n",
      "4    6700\n",
      "5    2430\n",
      "6     230\n",
      "7     560\n",
      "dtype: int64\n"
     ]
    }
   ],
   "source": [
    "s4= s1*10\n",
    "print(s4)"
   ]
  },
  {
   "cell_type": "code",
   "execution_count": 5,
   "metadata": {},
   "outputs": [
    {
     "name": "stdout",
     "output_type": "stream",
     "text": [
      "0      2.0\n",
      "1      4.0\n",
      "2     68.0\n",
      "3    112.0\n",
      "4    134.0\n",
      "5     48.6\n",
      "6      4.6\n",
      "7     11.2\n",
      "dtype: float64\n"
     ]
    }
   ],
   "source": [
    "s5= s1/5\n",
    "print(s5)"
   ]
  },
  {
   "cell_type": "code",
   "execution_count": 6,
   "metadata": {},
   "outputs": [
    {
     "name": "stdout",
     "output_type": "stream",
     "text": [
      "0      2\n",
      "1      4\n",
      "2     68\n",
      "3    112\n",
      "4    134\n",
      "5     48\n",
      "6      4\n",
      "7     11\n",
      "dtype: int64\n"
     ]
    }
   ],
   "source": [
    "s6 = s1//5\n",
    "print(s6)"
   ]
  },
  {
   "cell_type": "code",
   "execution_count": 7,
   "metadata": {},
   "outputs": [
    {
     "name": "stdout",
     "output_type": "stream",
     "text": [
      "0       100\n",
      "1       400\n",
      "2    115600\n",
      "3    313600\n",
      "4    448900\n",
      "5     59049\n",
      "6       529\n",
      "7      3136\n",
      "dtype: int64\n"
     ]
    }
   ],
   "source": [
    "s7= s1**2\n",
    "print(s7)"
   ]
  },
  {
   "cell_type": "markdown",
   "metadata": {},
   "source": [
    "Relational Operator on Pandas Series"
   ]
  },
  {
   "cell_type": "code",
   "execution_count": 8,
   "metadata": {},
   "outputs": [
    {
     "name": "stdout",
     "output_type": "stream",
     "text": [
      "0    False\n",
      "1    False\n",
      "2     True\n",
      "3     True\n",
      "4     True\n",
      "5     True\n",
      "6    False\n",
      "7     True\n",
      "dtype: bool\n"
     ]
    }
   ],
   "source": [
    "s8 = s1>40\n",
    "print(s8) \n"
   ]
  },
  {
   "cell_type": "code",
   "execution_count": 9,
   "metadata": {},
   "outputs": [
    {
     "name": "stdout",
     "output_type": "stream",
     "text": [
      "2    340\n",
      "3    560\n",
      "4    670\n",
      "5    243\n",
      "7     56\n",
      "dtype: int64\n"
     ]
    }
   ],
   "source": [
    "s9 = s1[s1>40]\n",
    "print(s9)"
   ]
  },
  {
   "cell_type": "markdown",
   "metadata": {},
   "source": [
    "Logical Operators on Pandas Series"
   ]
  },
  {
   "cell_type": "code",
   "execution_count": 10,
   "metadata": {},
   "outputs": [
    {
     "name": "stdout",
     "output_type": "stream",
     "text": [
      "0    False\n",
      "1    False\n",
      "2    False\n",
      "3    False\n",
      "4    False\n",
      "5     True\n",
      "6    False\n",
      "7     True\n",
      "dtype: bool\n"
     ]
    }
   ],
   "source": [
    "s10 = s1[s1>40] & s1[s1<300]  #the major difference is AND Symbol - & \n",
    "print(s10)"
   ]
  },
  {
   "cell_type": "code",
   "execution_count": 11,
   "metadata": {},
   "outputs": [
    {
     "name": "stdout",
     "output_type": "stream",
     "text": [
      "0    False\n",
      "1    False\n",
      "2     True\n",
      "3     True\n",
      "4     True\n",
      "5     True\n",
      "6    False\n",
      "7     True\n",
      "dtype: bool\n"
     ]
    }
   ],
   "source": [
    "s10 = s1[s1 > 40] | s1[s1 < 300]  # the major difference is OR Symbol - !\n",
    "print(s10)\n"
   ]
  },
  {
   "cell_type": "code",
   "execution_count": 21,
   "metadata": {},
   "outputs": [
    {
     "name": "stdout",
     "output_type": "stream",
     "text": [
      "0     10\n",
      "2    340\n",
      "3    560\n",
      "4    670\n",
      "5    243\n",
      "6     23\n",
      "7     56\n",
      "dtype: int64\n"
     ]
    }
   ],
   "source": [
    "s10 = s1[s1 != 20]   # the major difference is Symbol - &\n",
    "print(s10)\n"
   ]
  }
 ],
 "metadata": {
  "kernelspec": {
   "display_name": "Python 3.10.6 64-bit",
   "language": "python",
   "name": "python3"
  },
  "language_info": {
   "codemirror_mode": {
    "name": "ipython",
    "version": 3
   },
   "file_extension": ".py",
   "mimetype": "text/x-python",
   "name": "python",
   "nbconvert_exporter": "python",
   "pygments_lexer": "ipython3",
   "version": "3.10.6"
  },
  "orig_nbformat": 4,
  "vscode": {
   "interpreter": {
    "hash": "31f2aee4e71d21fbe5cf8b01ff0e069b9275f58929596ceb00d14d90e3e16cd6"
   }
  }
 },
 "nbformat": 4,
 "nbformat_minor": 2
}
